{
 "cells": [
  {
   "cell_type": "code",
   "execution_count": 8,
   "metadata": {},
   "outputs": [],
   "source": [
    "import os\n",
    "import numpy as np\n",
    "import json\n",
    "from collections import Counter\n",
    "import matplotlib.pyplot as plt\n",
    "import pandas as pd "
   ]
  },
  {
   "cell_type": "code",
   "execution_count": 9,
   "metadata": {},
   "outputs": [],
   "source": [
    "#Import data\n",
    "data_path = \"./Annotations/train.json\"\n",
    "with open(data_path) as f:\n",
    "    data = json.load(f)\n",
    "questions = []\n",
    "for qa in data:\n",
    "    questions.append(qa[\"question\"])"
   ]
  },
  {
   "cell_type": "code",
   "execution_count": 10,
   "metadata": {},
   "outputs": [
    {
     "name": "stdout",
     "output_type": "stream",
     "text": [
      "1. Number of repeating questions is 11165 out of a total of 20523, which is 54.4% \n",
      "\n",
      "2. The top 5 common questions with count are: [('What is this?', 2721), ('What color is this?', 367), ('What is it?', 255), ('What is this item?', 242), ('What does this say?', 199)] \n",
      "\n",
      "Below is a plot of the question counts.\n"
     ]
    },
    {
     "data": {
      "text/plain": [
       "Text(0.5, 0, 'question')"
      ]
     },
     "execution_count": 10,
     "metadata": {},
     "output_type": "execute_result"
    },
    {
     "data": {
      "image/png": "[encoded data removed]",
      "text/plain": [
       "<Figure size 432x288 with 1 Axes>"
      ]
     },
     "metadata": {
      "needs_background": "light"
     },
     "output_type": "display_data"
    }
   ],
   "source": [
    "#Analysis 1: sentence-level statistics\n",
    "q_num = len(questions)\n",
    "counter = Counter(questions)\n",
    "\n",
    "# number of repeating questions\n",
    "repeat_questions = Counter({x: count for x, count in counter.items() if count > 1})\n",
    "repeat_questions_cnt = sum([count for count in repeat_questions.values()])\n",
    "print(\"1. Number of repeating questions is {} out of a total of {}, which is {}% \\n\".format(repeat_questions_cnt,q_num,round(repeat_questions_cnt/q_num*100,2)))\n",
    "\n",
    "\n",
    "#question count statistics\n",
    "\n",
    "print(\"2. The top 5 common questions with count are: {} \\n\".format(repeat_questions.most_common(5)))\n",
    "print(\"Below is a plot of the question counts.\")\n",
    "q, cnt = zip(*repeat_questions.items())\n",
    "plt.plot(cnt)\n",
    "plt.ylabel('Question Count')\n",
    "plt.xlabel('question')"
   ]
  },
  {
   "cell_type": "code",
   "execution_count": 11,
   "metadata": {},
   "outputs": [
    {
     "name": "stdout",
     "output_type": "stream",
     "text": [
      "3. The question length statistics are shown below: \n"
     ]
    },
    {
     "data": {
      "text/html": [
       "<div>\n",
       "<style scoped>\n",
       "    .dataframe tbody tr th:only-of-type {\n",
       "        vertical-align: middle;\n",
       "    }\n",
       "\n",
       "    .dataframe tbody tr th {\n",
       "        vertical-align: top;\n",
       "    }\n",
       "\n",
       "    .dataframe thead th {\n",
       "        text-align: right;\n",
       "    }\n",
       "</style>\n",
       "<table border=\"1\" class=\"dataframe\">\n",
       "  <thead>\n",
       "    <tr style=\"text-align: right;\">\n",
       "      <th></th>\n",
       "      <th>0</th>\n",
       "    </tr>\n",
       "  </thead>\n",
       "  <tbody>\n",
       "    <tr>\n",
       "      <th>count</th>\n",
       "      <td>20523.000000</td>\n",
       "    </tr>\n",
       "    <tr>\n",
       "      <th>mean</th>\n",
       "      <td>6.756907</td>\n",
       "    </tr>\n",
       "    <tr>\n",
       "      <th>std</th>\n",
       "      <td>5.419756</td>\n",
       "    </tr>\n",
       "    <tr>\n",
       "      <th>min</th>\n",
       "      <td>2.000000</td>\n",
       "    </tr>\n",
       "    <tr>\n",
       "      <th>25%</th>\n",
       "      <td>4.000000</td>\n",
       "    </tr>\n",
       "    <tr>\n",
       "      <th>50%</th>\n",
       "      <td>5.000000</td>\n",
       "    </tr>\n",
       "    <tr>\n",
       "      <th>75%</th>\n",
       "      <td>8.000000</td>\n",
       "    </tr>\n",
       "    <tr>\n",
       "      <th>max</th>\n",
       "      <td>62.000000</td>\n",
       "    </tr>\n",
       "  </tbody>\n",
       "</table>\n",
       "</div>"
      ],
      "text/plain": [
       "                  0\n",
       "count  20523.000000\n",
       "mean       6.756907\n",
       "std        5.419756\n",
       "min        2.000000\n",
       "25%        4.000000\n",
       "50%        5.000000\n",
       "75%        8.000000\n",
       "max       62.000000"
      ]
     },
     "execution_count": 11,
     "metadata": {},
     "output_type": "execute_result"
    }
   ],
   "source": [
    "#question length statistics\n",
    "print(\"3. The question length statistics are shown below: \")\n",
    "q_lens = [len(q.split(\" \")) for q in questions]\n",
    "q_lens = pd.DataFrame(q_lens)\n",
    "q_lens.describe()"
   ]
  },
  {
   "cell_type": "code",
   "execution_count": 12,
   "metadata": {},
   "outputs": [
    {
     "name": "stdout",
     "output_type": "stream",
     "text": [
      "1. The percentage of words that only appear once is : 2.64% \n",
      "\n",
      "2. The percentage of questions with word that appear only once is: 12.09% \n",
      "\n",
      "3. The top 5 common start word of the question with count are: [('What', 12675), ('Can', 1141), (\"What's\", 930), ('Is', 892), ('what', 760)] \n",
      "\n",
      "4. The percentage of questions starting with a first word that occurs for less than 5% of all questions is 32.68%\n",
      "The percentage of questions starting with a first word that occurs for less than 10% of all questions is 38.24%\n"
     ]
    }
   ],
   "source": [
    "#Analysis 2: word-level statistics\n",
    "\n",
    "#word statistics, rare words\n",
    "words = [] \n",
    "for q in questions:\n",
    "    words += q.split(\" \")\n",
    "word_counter = Counter(words)\n",
    "unique_word = {x: count for x, count in word_counter.items() if count == 1}\n",
    "print(\"1. The percentage of words that only appear once is : {}% \\n\".format(round(len(unique_word)*100/len(words),2)))\n",
    "\n",
    "q_with_rare_word_cnt = 0\n",
    "for q in questions:\n",
    "    for word in q.split(\" \"):\n",
    "        if word in unique_word:\n",
    "            q_with_rare_word_cnt += 1\n",
    "            break\n",
    "print(\"2. The percentage of questions with word that appear only once is: {}% \\n\".format(round(q_with_rare_word_cnt*100/q_num,2)))\n",
    "\n",
    "#first words\n",
    "first_words = [q.split(\" \")[0] for q in questions]\n",
    "first_word_counter = Counter(first_words)\n",
    "print(\"3. The top 5 common start word of the question with count are: {} \\n\".format(first_word_counter.most_common(5)))\n",
    "\n",
    "\n",
    "lt_5_percent_cnt = sum([count for count in first_word_counter.values() if count <= q_num * 0.05])\n",
    "print(\"4. The percentage of questions starting with a first word that occurs for less than 5% of all questions is {}%\".format(round(lt_5_percent_cnt*100/q_num,2)))\n",
    "lt_10_percent_cnt = sum([count for count in first_word_counter.values() if count <= q_num * 0.1])\n",
    "print(\"The percentage of questions starting with a first word that occurs for less than 10% of all questions is {}%\".format(round(lt_10_percent_cnt*100/q_num,2)))\n"
   ]
  }
 ],
 "metadata": {
  "kernelspec": {
   "display_name": "Python 3",
   "language": "python",
   "name": "python3"
  },
  "language_info": {
   "codemirror_mode": {
    "name": "ipython",
    "version": 3
   },
   "file_extension": ".py",
   "mimetype": "text/x-python",
   "name": "python",
   "nbconvert_exporter": "python",
   "pygments_lexer": "ipython3",
   "version": "3.8.3"
  }
 },
 "nbformat": 4,
 "nbformat_minor": 4
}
