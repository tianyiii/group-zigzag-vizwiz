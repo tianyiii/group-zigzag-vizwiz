{
  "nbformat": 4,
  "nbformat_minor": 0,
  "metadata": {
    "colab": {
      "name": "lxmert_olddata_question_analysis.ipynb",
      "provenance": []
    },
    "kernelspec": {
      "name": "python3",
      "display_name": "Python 3"
    },
    "language_info": {
      "name": "python"
    }
  },
  "cells": [
    {
      "cell_type": "code",
      "metadata": {
        "id": "RSq3DZyyJ_66",
        "colab": {
          "base_uri": "https://localhost:8080/",
          "height": 232
        },
        "outputId": "b3328a00-2ae0-4f53-86df-c6e7709500db"
      },
      "source": [
        "#1. answers are considered wrong if not equal to the most popular label\n",
        "binary_qa_pred_wrong = []\n",
        "for qa in binary_qa:\n",
        "  popular_labels = []\n",
        "  max_score = 0\n",
        "  for label,score in qa[\"label\"].items():\n",
        "    if score > max_score:\n",
        "      popular_labels = [label]\n",
        "      max_score = score\n",
        "    elif score == max_score:\n",
        "      popular_labels.append(label)\n",
        "\n",
        "  if qa[\"answer\"] not in popular_labels:\n",
        "    binary_qa_pred_wrong.append(qa)\n",
        "with open('binary_qa_pred_wrong.json', 'w') as outfile:\n",
        "    json.dump(binary_qa_pred_wrong, outfile) "
      ],
      "execution_count": null,
      "outputs": [
        {
          "output_type": "error",
          "ename": "NameError",
          "evalue": "ignored",
          "traceback": [
            "\u001b[0;31m---------------------------------------------------------------------------\u001b[0m",
            "\u001b[0;31mNameError\u001b[0m                                 Traceback (most recent call last)",
            "\u001b[0;32m<ipython-input-2-9e1a7d73cb55>\u001b[0m in \u001b[0;36m<module>\u001b[0;34m()\u001b[0m\n\u001b[1;32m      1\u001b[0m \u001b[0;31m#1. answers are considered wrong if not equal to the most popular label\u001b[0m\u001b[0;34m\u001b[0m\u001b[0;34m\u001b[0m\u001b[0;34m\u001b[0m\u001b[0m\n\u001b[1;32m      2\u001b[0m \u001b[0mbinary_qa_pred_wrong\u001b[0m \u001b[0;34m=\u001b[0m \u001b[0;34m[\u001b[0m\u001b[0;34m]\u001b[0m\u001b[0;34m\u001b[0m\u001b[0;34m\u001b[0m\u001b[0m\n\u001b[0;32m----> 3\u001b[0;31m \u001b[0;32mfor\u001b[0m \u001b[0mqa\u001b[0m \u001b[0;32min\u001b[0m \u001b[0mbinary_qa\u001b[0m\u001b[0;34m:\u001b[0m\u001b[0;34m\u001b[0m\u001b[0;34m\u001b[0m\u001b[0m\n\u001b[0m\u001b[1;32m      4\u001b[0m   \u001b[0mpopular_labels\u001b[0m \u001b[0;34m=\u001b[0m \u001b[0;34m[\u001b[0m\u001b[0;34m]\u001b[0m\u001b[0;34m\u001b[0m\u001b[0;34m\u001b[0m\u001b[0m\n\u001b[1;32m      5\u001b[0m   \u001b[0mmax_score\u001b[0m \u001b[0;34m=\u001b[0m \u001b[0;36m0\u001b[0m\u001b[0;34m\u001b[0m\u001b[0;34m\u001b[0m\u001b[0m\n",
            "\u001b[0;31mNameError\u001b[0m: name 'binary_qa' is not defined"
          ]
        }
      ]
    },
    {
      "cell_type": "code",
      "metadata": {
        "id": "nD4z-SfHlkhN",
        "colab": {
          "base_uri": "https://localhost:8080/"
        },
        "outputId": "59849e4a-91e2-4104-93a9-98f49af66605"
      },
      "source": [
        "import json\n",
        "    #data format:\n",
        "    # {\n",
        "    #     \"img_id\":\"VizWiz_val_000000028037\",\n",
        "    #     \"label\":{\n",
        "    #         \"72\":1,\n",
        "    #         \"72 degrees\":0.3\n",
        "    #     },\n",
        "    #     \"question_id\":\"VizWiz_val_000000028037.jpg\",\n",
        "    #     \"sent\":\"What temperature is the thermostat set to?\",\n",
        "    #     \"answer\":\"unanswerable\"\n",
        "    # }\n",
        "with open('all_qa_pred_result.json') as f1:\n",
        "  all_qa_pred_result = json.load(f1)\n",
        "with open('all_qa_pred_wrong.json') as f1:\n",
        "  all_qa_pred_wrong = json.load(f1)\n",
        "\n",
        "with open('binary_qa_pred_result.json') as f1:\n",
        "  binary_qa_pred_result = json.load(f1)\n",
        "with open('binary_qa_pred_wrong.json') as f1:\n",
        "  binary_qa_pred_wrong = json.load(f1)\n",
        "\n",
        "with open('nonanswerable_qa_pred_result.json') as f1:\n",
        "  nonanswerable_qa_pred_result = json.load(f1)\n",
        "\n",
        "\n",
        "with open('nonanswerable_qa_pred_wrong.json') as f1:\n",
        "  nonanswerable_qa_pred_wrong = json.load(f1)\n",
        "\n",
        "with open('number_qa_pred_result.json') as f1:\n",
        "  number_qa_pred_result = json.load(f1)\n",
        "\n",
        "with open('number_qa_pred_wrong.json') as f1:\n",
        "  number_qa_pred_wrong = json.load(f1)\n",
        "\n",
        "\n",
        "with open('minival_predict.json') as f1:\n",
        "  minival_predict = json.load(f1)\n",
        "print(\"total val data is \" + str(len(minival_predict)))\n"
      ],
      "execution_count": 1,
      "outputs": [
        {
          "output_type": "stream",
          "text": [
            "total val data is 3171\n"
          ],
          "name": "stdout"
        }
      ]
    },
    {
      "cell_type": "code",
      "metadata": {
        "colab": {
          "base_uri": "https://localhost:8080/"
        },
        "id": "JnyeApcH3ns4",
        "outputId": "642d3643-4680-4b3c-ab26-cc967dfebc89"
      },
      "source": [
        "print(\"all prediction cnt: \" + str(len(all_qa_pred_result)))\n",
        "print(\"all binary qa cnt: \" + str(len(binary_qa_pred_result)))\n",
        "print(\"all nonanswerable qa cnt: \" + str(len(nonanswerable_qa_pred_result)))\n",
        "print(\"all number qa cnt: \" + str(len(number_qa_pred_result)))"
      ],
      "execution_count": null,
      "outputs": [
        {
          "output_type": "stream",
          "text": [
            "all prediction cnt: 3171\n",
            "all binary qa cnt: 154\n",
            "all nonanswerable qa cnt: 749\n",
            "all number qa cnt: 63\n"
          ],
          "name": "stdout"
        }
      ]
    },
    {
      "cell_type": "code",
      "metadata": {
        "colab": {
          "base_uri": "https://localhost:8080/"
        },
        "id": "QCOp7T8fJ_07",
        "outputId": "29918d93-a936-4171-bc35-20633a5383ee"
      },
      "source": [
        "#accuracy recalculate\n",
        "total_score = 0\n",
        "for qa in all_qa_pred_result:\n",
        "  if qa[\"answer\"] in qa[\"label\"].keys():\n",
        "    score = qa[\"label\"][qa[\"answer\"]]\n",
        "    if score == 0.3:\n",
        "      total_score += 1.0/3\n",
        "    elif score == 0.6:\n",
        "      total_score += 2.0/3\n",
        "    elif score >= 0.9:\n",
        "      total_score += 1.0\n",
        "print(\"acc for all is \" + str(total_score/len(all_qa_pred_result)))\n",
        "\n",
        "total_score = 0\n",
        "for qa in binary_qa_pred_result:\n",
        "  if qa[\"answer\"] in qa[\"label\"].keys():\n",
        "    score = qa[\"label\"][qa[\"answer\"]]\n",
        "    if score == 0.3:\n",
        "      total_score += 1.0/3\n",
        "    elif score == 0.6:\n",
        "      total_score += 2.0/3\n",
        "    elif score >= 0.9:\n",
        "      total_score += 1.0\n",
        "print(\"acc for binary is \" + str(total_score/len(binary_qa_pred_result)))\n",
        "\n",
        "total_score = 0\n",
        "for qa in nonanswerable_qa_pred_result:\n",
        "  if qa[\"answer\"] in qa[\"label\"].keys():\n",
        "    score = qa[\"label\"][qa[\"answer\"]]\n",
        "    if score == 0.3:\n",
        "      total_score += 1.0/3\n",
        "    elif score == 0.6:\n",
        "      total_score += 2.0/3\n",
        "    elif score >= 0.9:\n",
        "      total_score += 1.0\n",
        "print(\"acc for nonanswerable is \" + str(total_score/len(nonanswerable_qa_pred_result)))\n",
        "\n",
        "total_score = 0\n",
        "for qa in number_qa_pred_result:\n",
        "  if qa[\"answer\"] in qa[\"label\"].keys():\n",
        "    score = qa[\"label\"][qa[\"answer\"]]\n",
        "    if score == 0.3:\n",
        "      total_score += 1.0/3\n",
        "    elif score == 0.6:\n",
        "      total_score += 2.0/3\n",
        "    elif score >= 0.9:\n",
        "      total_score += 1.0\n",
        "print(\"acc for number is \" + str(total_score/len(number_qa_pred_result)))\n",
        "    \n"
      ],
      "execution_count": 2,
      "outputs": [
        {
          "output_type": "stream",
          "text": [
            "acc for all is 0.522442972774098\n",
            "acc for binary is 0.7272727272727273\n",
            "acc for nonanswerable is 0.8655985758789497\n",
            "acc for number is 0.2380952380952381\n"
          ],
          "name": "stdout"
        }
      ]
    },
    {
      "cell_type": "code",
      "metadata": {
        "colab": {
          "base_uri": "https://localhost:8080/"
        },
        "id": "KjEXYqkFTB4m",
        "outputId": "06dada82-8c98-4518-d3f4-2ce51e63747e"
      },
      "source": [
        "#edit distance\n",
        "!pip install python-Levenshtein\n",
        "from Levenshtein import distance\n",
        "\n",
        "total_dist = 0\n",
        "for qa in all_qa_pred_result:\n",
        "  answer = qa[\"answer\"]\n",
        "  three = []\n",
        "  six = []\n",
        "  nine = []\n",
        "  ones = []\n",
        "  for label,score in qa[\"label\"].items():\n",
        "    dist = distance(answer,label)\n",
        "    if score == 0.3:\n",
        "      three.append(dist)\n",
        "    elif score == 0.6:\n",
        "      six.append(dist)\n",
        "    elif score == 0.9:\n",
        "      nine.append(dist)\n",
        "    else:\n",
        "      ones.append(dist)\n",
        "  dist = sum(three) + sum(six)*2 + sum(nine)*3 +( (10-(len(three) + len(six) + len(nine)))/len(ones)*sum(ones) if len(ones) > 0 else 0)\n",
        "  total_dist += (dist/10)\n",
        "print(\"ave edit dist for all : \" + str(total_dist/len(all_qa_pred_result)))\n",
        "\n",
        "#binary\n",
        "total_dist = 0\n",
        "for qa in binary_qa_pred_result:\n",
        "  answer = qa[\"answer\"]\n",
        "  three = []\n",
        "  six = []\n",
        "  nine = []\n",
        "  ones = []\n",
        "  for label,score in qa[\"label\"].items():\n",
        "    dist = distance(answer,label)\n",
        "    if score == 0.3:\n",
        "      three.append(dist)\n",
        "    elif score == 0.6:\n",
        "      six.append(dist)\n",
        "    elif score == 0.9:\n",
        "      nine.append(dist)\n",
        "    else:\n",
        "      ones.append(dist)\n",
        "  dist = sum(three) + sum(six)*2 + sum(nine)*3 +( (10-(len(three) + len(six) + len(nine)))/len(ones)*sum(ones) if len(ones) > 0 else 0)\n",
        "  total_dist += (dist/10)\n",
        "\n",
        "print(\"ave edit dist for binary : \" + str(total_dist/len(binary_qa_pred_result)))\n",
        "\n",
        "#unanswerable\n",
        "total_dist = 0\n",
        "for qa in nonanswerable_qa_pred_result:\n",
        "  answer = qa[\"answer\"]\n",
        "  three = []\n",
        "  six = []\n",
        "  nine = []\n",
        "  ones = []\n",
        "  for label,score in qa[\"label\"].items():\n",
        "    dist = distance(answer,label)\n",
        "    if score == 0.3:\n",
        "      three.append(dist)\n",
        "    elif score == 0.6:\n",
        "      six.append(dist)\n",
        "    elif score == 0.9:\n",
        "      nine.append(dist)\n",
        "    else:\n",
        "      ones.append(dist)\n",
        "  dist = sum(three) + sum(six)*2 + sum(nine)*3 +( (10-(len(three) + len(six) + len(nine)))/len(ones)*sum(ones) if len(ones) > 0 else 0)\n",
        "  total_dist += (dist/10)\n",
        "print(\"ave edit dist for nonanswerable : \" + str(total_dist/len(nonanswerable_qa_pred_result)))\n",
        "\n",
        "#number\n",
        "total_dist = 0\n",
        "for qa in number_qa_pred_result:\n",
        "  answer = qa[\"answer\"]\n",
        "  three = []\n",
        "  six = []\n",
        "  nine = []\n",
        "  ones = []\n",
        "  for label,score in qa[\"label\"].items():\n",
        "    dist = distance(answer,label)\n",
        "    if score == 0.3:\n",
        "      three.append(dist)\n",
        "    elif score == 0.6:\n",
        "      six.append(dist)\n",
        "    elif score == 0.9:\n",
        "      nine.append(dist)\n",
        "    else:\n",
        "      ones.append(dist)\n",
        "  dist = sum(three) + sum(six)*2 + sum(nine)*3 +( (10-(len(three) + len(six) + len(nine)))/len(ones)*sum(ones) if len(ones) > 0 else 0)\n",
        "  total_dist += (dist/10)\n",
        "\n",
        "print(\"ave edit dist for number : \" + str(total_dist/len(number_qa_pred_result)))"
      ],
      "execution_count": 3,
      "outputs": [
        {
          "output_type": "stream",
          "text": [
            "Collecting python-Levenshtein\n",
            "\u001b[?25l  Downloading https://files.pythonhosted.org/packages/2a/dc/97f2b63ef0fa1fd78dcb7195aca577804f6b2b51e712516cc0e902a9a201/python-Levenshtein-0.12.2.tar.gz (50kB)\n",
            "\r\u001b[K     |██████▌                         | 10kB 16.7MB/s eta 0:00:01\r\u001b[K     |█████████████                   | 20kB 12.7MB/s eta 0:00:01\r\u001b[K     |███████████████████▌            | 30kB 12.3MB/s eta 0:00:01\r\u001b[K     |██████████████████████████      | 40kB 11.3MB/s eta 0:00:01\r\u001b[K     |████████████████████████████████| 51kB 4.1MB/s \n",
            "\u001b[?25hRequirement already satisfied: setuptools in /usr/local/lib/python3.7/dist-packages (from python-Levenshtein) (54.2.0)\n",
            "Building wheels for collected packages: python-Levenshtein\n",
            "  Building wheel for python-Levenshtein (setup.py) ... \u001b[?25l\u001b[?25hdone\n",
            "  Created wheel for python-Levenshtein: filename=python_Levenshtein-0.12.2-cp37-cp37m-linux_x86_64.whl size=149804 sha256=2355f75588eb3dcc04f99ca0f6688eb08e90d43def7e377963f5f0ec9116c90b\n",
            "  Stored in directory: /root/.cache/pip/wheels/b3/26/73/4b48503bac73f01cf18e52cd250947049a7f339e940c5df8fc\n",
            "Successfully built python-Levenshtein\n",
            "Installing collected packages: python-Levenshtein\n",
            "Successfully installed python-Levenshtein-0.12.2\n",
            "ave edit dist for all : 8.299558498896236\n",
            "ave edit dist for binary : 5.404545454545455\n",
            "ave edit dist for nonanswerable : 5.530907877169561\n",
            "ave edit dist for number : 9.342857142857142\n"
          ],
          "name": "stdout"
        }
      ]
    },
    {
      "cell_type": "code",
      "metadata": {
        "colab": {
          "base_uri": "https://localhost:8080/",
          "height": 451
        },
        "id": "BEbMsal5Ntp-",
        "outputId": "576b3325-01e5-48bc-f9ee-e7ce56070ad4"
      },
      "source": [
        "#details for binary qa\n",
        "binary_qa_wrong_cnt = len(binary_qa_pred_wrong)\n",
        "print(\"total number of binary qa predicted wrong is : \" + str(binary_qa_wrong_cnt))\n",
        "\n",
        "\n",
        "\n",
        "#wrong answer vote distribution\n",
        "d = {}\n",
        "cnt = []\n",
        "for qa in binary_qa_pred_wrong:\n",
        "  if qa[\"answer\"] in qa[\"label\"].keys():\n",
        "    score = qa[\"label\"][qa[\"answer\"]]\n",
        "    num_votes = 1 if score == 0.3 else 2 if score == 0.6 else 3 if score == 0.9 else 4\n",
        "    d[num_votes] = d.get(num_votes,0)+1\n",
        "    cnt.append(num_votes)\n",
        "  else:\n",
        "    d[0] = d.get(0,0)+1\n",
        "    cnt.append(0)\n",
        "print(\"number of workers vote for the wrong answer distribution: \" + str(d))\n",
        "\n",
        "import matplotlib.pyplot as plt\n",
        "import numpy as np\n",
        "plt.hist(cnt)\n",
        "bars = ('0','1','2','3')\n",
        "x_pos = np.arange(len(bars))\n",
        "plt.title('Wrong Answer Vote Count Distribution for LXMERT')\n",
        "plt.xlabel('Number of Votes for the Wrong Answer')\n",
        "plt.ylabel('Number of Questions')\n",
        "plt.xticks(x_pos, bars)\n",
        "plt.show()\n",
        "\n",
        "\n",
        "#yes no swap\n",
        "yes_no_swap_cnt = 0\n",
        "ave_score_for_wrong_ans = 0\n",
        "for qa in binary_qa_pred_wrong:\n",
        "  if qa[\"answer\"] in [\"yes\",\"no\"]:\n",
        "    yes_no_swap_cnt += 1\n",
        "    ave_score_for_wrong_ans += qa[\"label\"][qa[\"answer\"]] if qa[\"answer\"] in qa[\"label\"].keys() else 0\n",
        "print(\"yes/no predicted opposite percentage: \" + str(yes_no_swap_cnt/binary_qa_wrong_cnt))\n",
        "\n",
        "#unanswerable_cnt\n",
        "unanswerable_cnt = 0\n",
        "for qa in binary_qa_pred_wrong:\n",
        "  if qa[\"answer\"] == \"unanswerable\":\n",
        "    unanswerable_cnt += 1\n",
        "print(\"percentage of answer equals to unanswerable : \" + str(unanswerable_cnt/binary_qa_wrong_cnt))\n",
        "\n",
        "#question starts with can you see / can you tell\n",
        "can_you_see_cnt = 0\n",
        "for qa in binary_qa_pred_wrong:\n",
        "  if qa[\"sent\"].lower().startswith(\"can you see\"):\n",
        "    can_you_see_cnt += 1\n",
        "can_you_tell_cnt = 0\n",
        "for qa in binary_qa_pred_wrong:\n",
        "  if qa[\"sent\"].lower().startswith(\"can you tell\"):\n",
        "    can_you_tell_cnt += 1\n",
        "can_you_cnt = 0\n",
        "for qa in binary_qa_pred_wrong:\n",
        "  if qa[\"sent\"].lower().startswith(\"can you\"):\n",
        "    can_you_cnt += 1\n",
        "print(\"percentage of questions starts with can you : \" + str(can_you_cnt/binary_qa_wrong_cnt))\n",
        "\n",
        "#question contains but: \"I know this is suntan lotion, but I was wondering which factor it is, if you can see, please.\"\n",
        "but_cnt = 0\n",
        "for qa in binary_qa_pred_wrong:\n",
        "  if \"but\" in qa[\"sent\"].lower():\n",
        "    but_cnt += 1\n",
        "print(\"percentage of questions contains but : \" + str(but_cnt/binary_qa_wrong_cnt))\n",
        "\n",
        "#question length analysis\n",
        "question_length = {}\n",
        "max_len = 0\n",
        "ave_len = 0\n",
        "min_len = 1000000\n",
        "for qa in binary_qa_pred_wrong:\n",
        "  q_len = len(qa[\"sent\"])\n",
        "  question_length[q_len] = question_length.get(q_len,0) + 1\n",
        "  max_len = max(max_len,q_len)\n",
        "  ave_len += q_len\n",
        "  min_len = min(min_len,q_len)\n",
        "print(\"question length distribution: \" + str(question_length))\n",
        "ave_len /=len(binary_qa_pred_wrong)\n",
        "print(\"max len: {}, min len: {}, ave len: {}\".format(max_len,min_len,ave_len))\n"
      ],
      "execution_count": 4,
      "outputs": [
        {
          "output_type": "stream",
          "text": [
            "total number of binary qa predicted wrong is : 60\n",
            "number of workers vote for the wrong answer distribution: {1: 12, 0: 32, 3: 10, 2: 6}\n"
          ],
          "name": "stdout"
        },
        {
          "output_type": "display_data",
          "data": {
            "image/png": "[encoded data removed]",
            "text/plain": [
              "<Figure size 432x288 with 1 Axes>"
            ]
          },
          "metadata": {
            "tags": [],
            "needs_background": "light"
          }
        },
        {
          "output_type": "stream",
          "text": [
            "yes/no predicted opposite percentage: 0.6333333333333333\n",
            "percentage of answer equals to unanswerable : 0.25\n",
            "percentage of questions starts with can you : 0.18333333333333332\n",
            "percentage of questions contains but : 0.016666666666666666\n",
            "question length distribution: {13: 2, 15: 1, 53: 1, 28: 2, 50: 2, 31: 1, 74: 2, 32: 2, 25: 2, 71: 2, 36: 3, 24: 1, 26: 3, 34: 1, 33: 1, 35: 1, 69: 1, 160: 1, 46: 2, 22: 1, 23: 3, 29: 1, 92: 1, 157: 1, 19: 2, 41: 2, 40: 1, 16: 1, 55: 1, 20: 1, 51: 1, 30: 1, 17: 1, 123: 1, 14: 1, 109: 1, 66: 1, 37: 1, 56: 1, 27: 1, 42: 1, 21: 2, 85: 1}\n",
            "max len: 160, min len: 13, ave len: 43.95\n"
          ],
          "name": "stdout"
        }
      ]
    },
    {
      "cell_type": "code",
      "metadata": {
        "colab": {
          "base_uri": "https://localhost:8080/",
          "height": 451
        },
        "id": "vHTsUSiNPwLu",
        "outputId": "1eb1a212-92d5-44a2-a3d9-f3dc50864868"
      },
      "source": [
        "def is_number(s):\n",
        "  if s.isnumeric() or s.isdigit():\n",
        "    return True\n",
        "  try:\n",
        "      float(s)\n",
        "      return True\n",
        "  except ValueError:\n",
        "      return False\n",
        "\n",
        "#details for number_qa\n",
        "number_qa_wrong_cnt = len(number_qa_pred_wrong)\n",
        "print(\"total number of number qa predicted wrong is : \" + str(number_qa_wrong_cnt))\n",
        "\n",
        "\n",
        "d = {}\n",
        "cnt = []\n",
        "for qa in number_qa_pred_wrong:\n",
        "  if qa[\"answer\"] in qa[\"label\"].keys():\n",
        "    score = qa[\"label\"][qa[\"answer\"]]\n",
        "    num_votes = 1 if score == 0.3 else 2 if score == 0.6 else 3 if score == 0.9 else 4\n",
        "    d[num_votes] = d.get(num_votes,0)+1\n",
        "    cnt.append(num_votes)\n",
        "  else:\n",
        "    d[0] = d.get(0,0)+1\n",
        "    cnt.append(0)\n",
        "print(\"number of workers vote for the wrong answer distribution: \" + str(d))\n",
        "\n",
        "plt.hist(cnt)\n",
        "bars = ('0','1','2','3')\n",
        "x_pos = np.arange(len(bars))\n",
        "plt.title('Wrong Answer Vote Count Distribution')\n",
        "plt.xlabel('Number of Votes for the Wrong Answer')\n",
        "plt.ylabel('Number of Questions')\n",
        "plt.xticks(x_pos, bars)\n",
        "plt.show()\n",
        "\n",
        "#answer not number cnt\n",
        "ans_not_num_cnt = 0\n",
        "for qa in number_qa_pred_wrong:\n",
        "  if not is_number(qa[\"answer\"]):\n",
        "    ans_not_num_cnt += 1\n",
        "print(\"percentage of answers not number: \" + str(ans_not_num_cnt/number_qa_wrong_cnt))\n",
        "\n",
        "#unanswerable_cnt\n",
        "unanswerable_cnt = 0\n",
        "for qa in number_qa_pred_wrong:\n",
        "  if qa[\"answer\"] == \"unanswerable\":\n",
        "    unanswerable_cnt += 1\n",
        "print(\"percentage of answer equals to unanswerable : \" + str(unanswerable_cnt/number_qa_wrong_cnt))\n",
        "\n",
        "max_len = 0\n",
        "ave_len = 0\n",
        "min_len = 1000000\n",
        "#question length analysis\n",
        "question_length = {}\n",
        "for qa in number_qa_pred_wrong:\n",
        "  q_len = len(qa[\"sent\"])\n",
        "  max_len = max(max_len,q_len)\n",
        "  ave_len += q_len\n",
        "  min_len = min(min_len,q_len)\n",
        "  question_length[q_len] = question_length.get(q_len,0) + 1\n",
        "print(\"question length distribution: \" + str(question_length))\n",
        "ave_len /=len(number_qa_pred_wrong)\n",
        "print(\"max len: {}, min len: {}, ave len: {}\".format(max_len,min_len,ave_len))\n",
        "\n",
        "#question contains but: \"I know this is suntan lotion, but I was wondering which factor it is, if you can see, please.\"\n",
        "but_cnt = 0\n",
        "for qa in number_qa_pred_wrong:\n",
        "  if \"but\" in qa[\"sent\"].lower():\n",
        "    but_cnt += 1\n",
        "print(\"percentage of questions contains but : \" + str(but_cnt/number_qa_wrong_cnt))\n",
        "\n",
        "can_you_cnt = 0\n",
        "for qa in number_qa_pred_wrong:\n",
        "  if qa[\"sent\"].lower().startswith(\"can you\"):\n",
        "    can_you_cnt += 1\n",
        "print(\"percentage of questions starts with can you : \" + str(can_you_cnt/number_qa_wrong_cnt))\n"
      ],
      "execution_count": null,
      "outputs": [
        {
          "output_type": "stream",
          "text": [
            "total number of number qa predicted wrong is : 55\n",
            "number of workers vote for the wrong answer distribution: {0: 40, 2: 6, 1: 9}\n"
          ],
          "name": "stdout"
        },
        {
          "output_type": "display_data",
          "data": {
            "image/png": "[encoded data removed]",
            "text/plain": [
              "<Figure size 432x288 with 1 Axes>"
            ]
          },
          "metadata": {
            "tags": [],
            "needs_background": "light"
          }
        },
        {
          "output_type": "stream",
          "text": [
            "percentage of answers not number: 0.8\n",
            "percentage of answer equals to unanswerable : 0.6363636363636364\n",
            "question length distribution: {42: 2, 28: 1, 37: 3, 62: 1, 29: 1, 47: 1, 93: 2, 46: 2, 40: 4, 17: 2, 52: 1, 53: 2, 21: 1, 25: 2, 18: 1, 26: 2, 9: 1, 36: 2, 43: 1, 73: 1, 23: 1, 30: 1, 34: 1, 31: 3, 89: 1, 129: 1, 45: 1, 39: 1, 27: 2, 44: 2, 59: 1, 41: 2, 38: 1, 69: 1, 20: 1, 19: 1, 33: 1}\n",
            "max len: 129, min len: 9, ave len: 41.32727272727273\n",
            "percentage of questions contains but : 0.05454545454545454\n",
            "percentage of questions starts with can you : 0.09090909090909091\n"
          ],
          "name": "stdout"
        }
      ]
    },
    {
      "cell_type": "code",
      "metadata": {
        "colab": {
          "base_uri": "https://localhost:8080/",
          "height": 451
        },
        "id": "MCfn_nOiRcvN",
        "outputId": "f710fda4-5e93-4d86-985d-c6d799323668"
      },
      "source": [
        "#details for unanswerable\n",
        "nonanswerable_qa_wrong_cnt = len(nonanswerable_qa_pred_wrong)\n",
        "print(\"total number of unanswerable qa predicted wrong is : \" + str(nonanswerable_qa_wrong_cnt))\n",
        "\n",
        "#wrong answer vote distribution\n",
        "d = {}\n",
        "cnt = []\n",
        "for qa in nonanswerable_qa_pred_wrong:\n",
        "  if qa[\"answer\"] in qa[\"label\"].keys():\n",
        "    score = qa[\"label\"][qa[\"answer\"]]\n",
        "    num_votes = 1 if score == 0.3 else 2 if score == 0.6 else 3 if score == 0.9 else 4\n",
        "    d[num_votes] = d.get(num_votes,0)+1\n",
        "    cnt.append(num_votes)\n",
        "  else:\n",
        "    d[0] = d.get(0,0)+1\n",
        "    cnt.append(0)\n",
        "print(\"number of workers vote for the wrong answer distribution: \" + str(d))\n",
        "\n",
        "plt.hist(cnt)\n",
        "bars = ('0','1','2','3')\n",
        "x_pos = np.arange(len(bars))\n",
        "plt.title('Wrong Answer Vote Count Distribution for LXMERT')\n",
        "plt.xlabel('Number of Votes for the Wrong Answer')\n",
        "plt.ylabel('Number of Questions')\n",
        "plt.xticks(x_pos, bars)\n",
        "plt.show()\n",
        "\n",
        "#binary\n",
        "binary_answer_cnt = 0\n",
        "for qa in nonanswerable_qa_pred_wrong:\n",
        "  if qa[\"answer\"] in [\"yes\",\"no\"]:\n",
        "    binary_answer_cnt += 1\n",
        "print(\"output answer is binary percentage: \" + str(binary_answer_cnt/nonanswerable_qa_wrong_cnt))\n",
        "\n",
        "#number\n",
        "number_answer_cnt = 0\n",
        "for qa in nonanswerable_qa_pred_wrong:\n",
        "  if is_number(qa[\"answer\"]):\n",
        "    number_answer_cnt += 1\n",
        "print(\"output answer is number percentage: \" + str(number_answer_cnt/nonanswerable_qa_wrong_cnt))\n",
        "\n",
        "\n",
        "#question length analysis\n",
        "max_len = 0\n",
        "ave_len = 0\n",
        "min_len = 1000000\n",
        "question_length = {}\n",
        "for qa in nonanswerable_qa_pred_wrong:\n",
        "  q_len = len(qa[\"sent\"])\n",
        "  max_len = max(max_len,q_len)\n",
        "  ave_len += q_len\n",
        "  min_len = min(min_len,q_len)\n",
        "  question_length[q_len] = question_length.get(q_len,0) + 1\n",
        "print(\"question length distribution: \" + str(question_length))\n",
        "ave_len /=len(number_qa_pred_wrong)\n",
        "print(\"max len: {}, min len: {}, ave len: {}\".format(max_len,min_len,ave_len))\n",
        "\n",
        "#question contains but: \"I know this is suntan lotion, but I was wondering which factor it is, if you can see, please.\"\n",
        "but_cnt = 0\n",
        "for qa in nonanswerable_qa_pred_wrong:\n",
        "  if \"but\" in qa[\"sent\"].lower():\n",
        "    but_cnt += 1\n",
        "print(\"percentage of questions contains but : \" + str(but_cnt/nonanswerable_qa_wrong_cnt))\n",
        "\n",
        "\n",
        "can_you_cnt = 0\n",
        "for qa in nonanswerable_qa_pred_wrong:\n",
        "  if qa[\"sent\"].lower().startswith(\"can you\"):\n",
        "    can_you_cnt += 1\n",
        "print(\"percentage of questions starts with can you : \" + str(can_you_cnt/nonanswerable_qa_wrong_cnt))"
      ],
      "execution_count": null,
      "outputs": [
        {
          "output_type": "stream",
          "text": [
            "total number of unanswerable qa predicted wrong is : 210\n",
            "number of workers vote for the wrong answer distribution: {0: 61, 3: 70, 1: 40, 2: 39}\n"
          ],
          "name": "stdout"
        },
        {
          "output_type": "display_data",
          "data": {
            "image/png": "[encoded data removed]",
            "text/plain": [
              "<Figure size 432x288 with 1 Axes>"
            ]
          },
          "metadata": {
            "tags": [],
            "needs_background": "light"
          }
        },
        {
          "output_type": "stream",
          "text": [
            "output answer is binary percentage: 0.11904761904761904\n",
            "output answer is number percentage: 0.004761904761904762\n",
            "question length distribution: {12: 4, 13: 25, 25: 9, 18: 4, 19: 9, 126: 1, 36: 8, 42: 4, 51: 3, 35: 2, 44: 4, 20: 11, 16: 2, 34: 6, 21: 11, 66: 2, 40: 5, 22: 7, 24: 5, 15: 4, 37: 2, 28: 5, 26: 8, 71: 1, 93: 1, 114: 1, 32: 7, 23: 4, 67: 3, 106: 1, 89: 1, 45: 2, 132: 1, 55: 1, 46: 3, 56: 3, 41: 1, 33: 3, 60: 1, 17: 3, 87: 1, 29: 3, 62: 1, 170: 1, 31: 7, 92: 1, 43: 1, 11: 3, 30: 2, 53: 1, 72: 1, 50: 2, 77: 1, 58: 1, 9: 1, 206: 1, 61: 1, 84: 1, 74: 1, 85: 1}\n",
            "max len: 206, min len: 9, ave len: 130.01818181818183\n",
            "percentage of questions contains but : 0.004761904761904762\n",
            "percentage of questions starts with can you : 0.05238095238095238\n"
          ],
          "name": "stdout"
        }
      ]
    }
  ]
}